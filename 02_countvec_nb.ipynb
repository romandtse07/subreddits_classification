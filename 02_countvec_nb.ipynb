{
 "cells": [
  {
   "cell_type": "markdown",
   "metadata": {
    "focus": false,
    "id": "db045898-1d2d-4af2-8e79-437c4c7546b4"
   },
   "source": [
    "# Examining Raw Word Count and Naive Bayes\n",
    "\n",
    "In this notebook, we explore the distribution of words in our comments and the potential of a naive bayes approach to subreddit classification.  jsons from the previous notebook are loaded and converted into a list of comments."
   ]
  },
  {
   "cell_type": "code",
   "execution_count": 4,
   "metadata": {},
   "outputs": [],
   "source": [
    "import pandas as pd\n",
    "import json\n",
    "import matplotlib.pyplot as plt"
   ]
  },
  {
   "cell_type": "markdown",
   "metadata": {},
   "source": [
    "Many of the comments are written by bots; we assume they are not representative of the behavior under examination and toss these aside.  Lengths of the files are recorded to be used later in identifying their subreddit."
   ]
  },
  {
   "cell_type": "code",
   "execution_count": 5,
   "metadata": {},
   "outputs": [],
   "source": [
    "def concatCorp(files):\n",
    "    corpii = []\n",
    "    lengths = []\n",
    "    for file in files:\n",
    "        jsfile = json.load(open(file))\n",
    "        corp = [data['body'].replace(\"'\",'').replace(\"’\", '')\n",
    "                for data in jsfile['data'] \n",
    "                if 'i am a bot' not in data['body']\n",
    "                and '[deleted]' not in data['body']\n",
    "                and '[removed]' not in data['body']\n",
    "               ]\n",
    "        lengths.append(len(corp))\n",
    "        corpii.extend(corp)\n",
    "    return corpii, lengths"
   ]
  },
  {
   "cell_type": "markdown",
   "metadata": {},
   "source": [
    "For now, we will inspect the first file, since it is the one currently available.  The code is written to conveniently extend to more files, though."
   ]
  },
  {
   "cell_type": "code",
   "execution_count": 25,
   "metadata": {},
   "outputs": [],
   "source": [
    "files = [f'./jsons/incels_comment_{i}.json' for i in range(1)]\n",
    "files.extend([f'./jsons/foreveralone_comment_{i}.json' for i in range(1)])"
   ]
  },
  {
   "cell_type": "code",
   "execution_count": 26,
   "metadata": {},
   "outputs": [],
   "source": [
    "all_coms, lengths = concatCorp(files)"
   ]
  },
  {
   "cell_type": "code",
   "execution_count": 27,
   "metadata": {},
   "outputs": [
    {
     "data": {
      "text/plain": [
       "[9348, 9552]"
      ]
     },
     "execution_count": 27,
     "metadata": {},
     "output_type": "execute_result"
    }
   ],
   "source": [
    "lengths"
   ]
  },
  {
   "cell_type": "code",
   "execution_count": 28,
   "metadata": {},
   "outputs": [],
   "source": [
    "from sklearn.feature_extraction.text import CountVectorizer\n",
    "from sklearn.feature_extraction.stop_words import ENGLISH_STOP_WORDS"
   ]
  },
  {
   "cell_type": "markdown",
   "metadata": {},
   "source": [
    "We retroactively add stop words here.  This list was updated for words that seemed to carry significant weight in distinguishing the two subreddits, but were not seen as relevant in heading towards the final application of this model.  Since we are training inspecting comments, we remove common English words in hopes of finding patterns in less common words when we look at those most important."
   ]
  },
  {
   "cell_type": "code",
   "execution_count": 29,
   "metadata": {},
   "outputs": [],
   "source": [
    "stops = set(ENGLISH_STOP_WORDS)\n",
    "stops = stops.union({'www', 'reddit', 'deleted', 'https', 'com', 'http', 'incel', 'azavii', 'incels', 'imgur', 'youtube', 'gt'})"
   ]
  },
  {
   "cell_type": "code",
   "execution_count": 30,
   "metadata": {},
   "outputs": [],
   "source": [
    "ct = CountVectorizer(\n",
    "    max_df=0.8,\n",
    "    min_df=20,\n",
    "    token_pattern='[a-zA-Z][a-zA-Z]+',\n",
    "    ngram_range=(1,2),\n",
    "    stop_words=stops\n",
    ")"
   ]
  },
  {
   "cell_type": "code",
   "execution_count": 31,
   "metadata": {},
   "outputs": [],
   "source": [
    "covec = ct.fit_transform(all_coms)"
   ]
  },
  {
   "cell_type": "code",
   "execution_count": 32,
   "metadata": {},
   "outputs": [],
   "source": [
    "countdf = pd.DataFrame(covec.todense(), columns = ct.get_feature_names())"
   ]
  },
  {
   "cell_type": "markdown",
   "metadata": {},
   "source": [
    "We should note that here and in the next notebook, comments from r/incels is denoted as the positive 1 class."
   ]
  },
  {
   "cell_type": "code",
   "execution_count": 33,
   "metadata": {},
   "outputs": [],
   "source": [
    "countdf['Article'] = 1\n",
    "countdf.loc[lengths[0]:, 'Article'] = 0"
   ]
  },
  {
   "cell_type": "code",
   "execution_count": 34,
   "metadata": {},
   "outputs": [],
   "source": [
    "top_10_incels = countdf.query('Article==1').sum().sort_values(ascending=False).drop('Article', axis=0).head(10)"
   ]
  },
  {
   "cell_type": "code",
   "execution_count": 35,
   "metadata": {},
   "outputs": [],
   "source": [
    "top_10_foreveralone = countdf.query('Article==0')[top_10_incels.index].sum().sort_values(ascending=False).head(10)"
   ]
  },
  {
   "cell_type": "code",
   "execution_count": 36,
   "metadata": {},
   "outputs": [
    {
     "data": {
      "text/plain": [
       "just      1291\n",
       "like      1248\n",
       "women     1174\n",
       "dont      1099\n",
       "im         873\n",
       "people     691\n",
       "men        639\n",
       "youre      621\n",
       "fuck       558\n",
       "chad       540\n",
       "dtype: int64"
      ]
     },
     "execution_count": 36,
     "metadata": {},
     "output_type": "execute_result"
    }
   ],
   "source": [
    "top_10_incels"
   ]
  },
  {
   "cell_type": "markdown",
   "metadata": {},
   "source": [
    "We would like to compare the frequency of these words in the same number of comments from r/foreveralone."
   ]
  },
  {
   "cell_type": "code",
   "execution_count": 37,
   "metadata": {},
   "outputs": [
    {
     "data": {
      "text/plain": [
       "just      2632\n",
       "people    2395\n",
       "im        2393\n",
       "like      2276\n",
       "dont      2196\n",
       "youre      978\n",
       "women      669\n",
       "men        330\n",
       "fuck       293\n",
       "chad        64\n",
       "dtype: int64"
      ]
     },
     "execution_count": 37,
     "metadata": {},
     "output_type": "execute_result"
    }
   ],
   "source": [
    "top_10_foreveralone"
   ]
  },
  {
   "cell_type": "code",
   "execution_count": 38,
   "metadata": {},
   "outputs": [
    {
     "data": {
      "image/png": "[encoded data removed]",
      "text/plain": [
       "<Figure size 1440x720 with 1 Axes>"
      ]
     },
     "metadata": {},
     "output_type": "display_data"
    }
   ],
   "source": [
    "plt.figure(figsize=(20,10))\n",
    "plt.barh(top_10_incels.index, top_10_incels, 0.4, align='edge')\n",
    "plt.barh(top_10_foreveralone.index, top_10_foreveralone, 0.4, align='center')\n",
    "plt.title('Most Popular Words in \\n r/incels and r/foreveralone')\n",
    "plt.legend(['incels', 'foreveralone'])\n",
    "plt.xlabel('Raw Count');"
   ]
  },
  {
   "cell_type": "markdown",
   "metadata": {},
   "source": [
    "We that despite the difference in total counts of the words, r/incels still manages to make mention of gender more than r/foreveralone.  We also see some a higher use of derogatory words, though chad is jargon more identified with incels.  Whether a more frequent appearance of the other words is meaningful without scaling is debatable.  The issue of scaling is considered in the next notebook, though in a hand-waving kind of way by just applying a TF-IDF transformation on the corpus.  We might consider the distribution of word-length of comments."
   ]
  },
  {
   "cell_type": "code",
   "execution_count": 41,
   "metadata": {},
   "outputs": [],
   "source": [
    "incels_length = countdf.query('Article==1').T.sum()\n",
    "alone_length = countdf.query('Article==0').T.sum()"
   ]
  },
  {
   "cell_type": "code",
   "execution_count": 50,
   "metadata": {},
   "outputs": [
    {
     "data": {
      "image/png": "[encoded data removed]",
      "text/plain": [
       "<Figure size 1440x720 with 1 Axes>"
      ]
     },
     "metadata": {},
     "output_type": "display_data"
    }
   ],
   "source": [
    "plt.figure(figsize=(20,10))\n",
    "plt.boxplot([incels_length, alone_length], labels=['incels', 'foreveralone'])\n",
    "plt.ylim((0,100))\n",
    "plt.title('Comment Length in Words');"
   ]
  },
  {
   "cell_type": "code",
   "execution_count": 52,
   "metadata": {},
   "outputs": [
    {
     "data": {
      "text/plain": [
       "1    47242\n",
       "0    47242\n",
       "Name: Article, dtype: int64"
      ]
     },
     "execution_count": 52,
     "metadata": {},
     "output_type": "execute_result"
    }
   ],
   "source": [
    "countdf.Article.value_counts()"
   ]
  },
  {
   "cell_type": "markdown",
   "metadata": {},
   "source": [
    "Considering that each subreddit has an equal amount of comments and the average comment in r/foreveralone is not near twice as long r/incels, we might consider the words appearing more frequently in the former to be telling of content.  Inspecting our bag-of-words gives us confidence that despite excluding some giveaway words that would immediately point to r/incels, we can detect a more basic distinction between r/foreveralone and r/incels which may later generalize to other subreddits (though this is getting way ahead of ourselves).  We move on to training a classifier."
   ]
  },
  {
   "cell_type": "markdown",
   "metadata": {},
   "source": [
    "## Training Naive Bayes\n",
    "\n",
    "In the spirit of investigating differences through the frequency of words, we apply a Naive Bayes model to our word counts.  This model will predict classes simply based on the percent chance a single word appears in each document type; it captures no information on context, which intuitively seems necessary if we wish to generalize results beyond identifying these two specific subreddits.  We go ahead and inspect for accuracy."
   ]
  },
  {
   "cell_type": "code",
   "execution_count": 39,
   "metadata": {},
   "outputs": [],
   "source": [
    "from sklearn.model_selection import train_test_split\n",
    "import numpy as np"
   ]
  },
  {
   "cell_type": "code",
   "execution_count": 40,
   "metadata": {},
   "outputs": [],
   "source": [
    "np.random.seed(1)"
   ]
  },
  {
   "cell_type": "code",
   "execution_count": 41,
   "metadata": {},
   "outputs": [],
   "source": [
    "xtrain, xtest, ytrain, ytest = train_test_split(countdf.iloc[:,:-1], countdf.iloc[:,-1])"
   ]
  },
  {
   "cell_type": "code",
   "execution_count": 42,
   "metadata": {
    "collapsed": true
   },
   "outputs": [
    {
     "data": {
      "text/plain": [
       "0.7094179894179894"
      ]
     },
     "execution_count": 42,
     "metadata": {},
     "output_type": "execute_result"
    }
   ],
   "source": [
    "from sklearn.naive_bayes import MultinomialNB\n",
    "nb = MultinomialNB(alpha=3)\n",
    "nb.fit(xtrain, ytrain)\n",
    "nb.score(xtest, ytest)"
   ]
  },
  {
   "cell_type": "markdown",
   "metadata": {},
   "source": [
    "The results of this model are well above a random guess.  We try to see how well it generalizes to other forums:"
   ]
  },
  {
   "cell_type": "code",
   "execution_count": 46,
   "metadata": {},
   "outputs": [],
   "source": [
    "def predictIncels(name, n_files):\n",
    "    files = [f'./jsons/{name}_comment_{i}.json' for i in range(n_files)]\n",
    "    pred_coms, lengths = concatCorp(files)\n",
    "    xfinaltest = ct.transform(pred_coms)\n",
    "    testdf = pd.DataFrame(xfinaltest.todense(), columns = ct.get_feature_names())\n",
    "    return np.mean(nb.predict(testdf))"
   ]
  },
  {
   "cell_type": "code",
   "execution_count": 47,
   "metadata": {},
   "outputs": [
    {
     "data": {
      "text/plain": [
       "0.40902021772939345"
      ]
     },
     "execution_count": 47,
     "metadata": {},
     "output_type": "execute_result"
    }
   ],
   "source": [
    "predictIncels('truecels', 1)"
   ]
  },
  {
   "cell_type": "code",
   "execution_count": 49,
   "metadata": {},
   "outputs": [
    {
     "data": {
      "text/plain": [
       "0.26486811754086853"
      ]
     },
     "execution_count": 49,
     "metadata": {},
     "output_type": "execute_result"
    }
   ],
   "source": [
    "predictIncels('changemyview', 1)"
   ]
  },
  {
   "cell_type": "code",
   "execution_count": 50,
   "metadata": {},
   "outputs": [
    {
     "data": {
      "text/plain": [
       "0.4107321965897693"
      ]
     },
     "execution_count": 50,
     "metadata": {},
     "output_type": "execute_result"
    }
   ],
   "source": [
    "predictIncels('mensrights', 1)"
   ]
  },
  {
   "cell_type": "markdown",
   "metadata": {},
   "source": [
    "Our model does just as well on the initial set of testing data as it does on our newly imported, more recent data.  It is not surprising that the model fails to generalize to other subreddits, but it is disappointing all the same.  There seems to be some success in recognizing r/changemyview, a subreddit that is moderated to include only civil argument, but we should keep in mind that this model only compares vocabulary; change my view simply does not use certain words at the same frequency as r/incels.  This result would be significant if we were convinced that we had removed all jargon, but for now, we move on to a model that would take care of word interactions by design - the Random Forest.\n",
    "\n",
    "We will see later that these results are actually more accurate than what we would find in our next model.  However, this model was simply established to get an idea of the accuracy we should expect; the goal is to build a model that can account for behavior in a manner less obvious than whether a word is present, which may easily be circumvented."
   ]
  }
 ],
 "metadata": {
  "anaconda-cloud": {},
  "kernelspec": {
   "display_name": "Python 3",
   "language": "python",
   "name": "python3"
  },
  "language_info": {
   "codemirror_mode": {
    "name": "ipython",
    "version": 3
   },
   "file_extension": ".py",
   "mimetype": "text/x-python",
   "name": "python",
   "nbconvert_exporter": "python",
   "pygments_lexer": "ipython3",
   "version": "3.6.5"
  },
  "varInspector": {
   "cols": {
    "lenName": 16,
    "lenType": 16,
    "lenVar": 40
   },
   "kernels_config": {
    "python": {
     "delete_cmd_postfix": "",
     "delete_cmd_prefix": "del ",
     "library": "var_list.py",
     "varRefreshCmd": "print(var_dic_list())"
    },
    "r": {
     "delete_cmd_postfix": ") ",
     "delete_cmd_prefix": "rm(",
     "library": "var_list.r",
     "varRefreshCmd": "cat(var_dic_list()) "
    }
   },
   "types_to_exclude": [
    "module",
    "function",
    "builtin_function_or_method",
    "instance",
    "_Feature"
   ],
   "window_display": false
  }
 },
 "nbformat": 4,
 "nbformat_minor": 2
}
