{
 "cells": [
  {
   "cell_type": "markdown",
   "metadata": {
    "focus": false,
    "id": "db045898-1d2d-4af2-8e79-437c4c7546b4"
   },
   "source": [
    "# Examining Term Frequency - Inverse Document Frequency and Random Forest\n",
    "\n",
    "The data import process is carried over from the previous notebook."
   ]
  },
  {
   "cell_type": "code",
   "execution_count": 1,
   "metadata": {},
   "outputs": [],
   "source": [
    "import pandas as pd\n",
    "import json"
   ]
  },
  {
   "cell_type": "code",
   "execution_count": 2,
   "metadata": {},
   "outputs": [],
   "source": [
    "def concatCorp(files):\n",
    "    corpii = []\n",
    "    lengths = []\n",
    "    for file in files:\n",
    "        jsfile = json.load(open(file))\n",
    "        corp = [data['body'].replace(\"'\",'') \n",
    "                for data in jsfile['data'] \n",
    "                if 'i am a bot' not in data['body']\n",
    "                and '[deleted]' not in data['body']\n",
    "                and '[removed]' not in data['body']\n",
    "               ]\n",
    "        lengths.append(len(corp))\n",
    "        corpii.extend(corp)\n",
    "    return corpii, lengths"
   ]
  },
  {
   "cell_type": "code",
   "execution_count": 3,
   "metadata": {},
   "outputs": [],
   "source": [
    "files = [f'./jsons/incels_comment_{i}.json' for i in range(1)]\n",
    "files.extend([f'./jsons/foreveralone_comment_{i}.json' for i in range(1)])"
   ]
  },
  {
   "cell_type": "code",
   "execution_count": 4,
   "metadata": {},
   "outputs": [],
   "source": [
    "all_coms, lengths = concatCorp(files)"
   ]
  },
  {
   "cell_type": "code",
   "execution_count": 5,
   "metadata": {},
   "outputs": [],
   "source": [
    "from sklearn.feature_extraction.text import TfidfVectorizer, CountVectorizer\n",
    "from sklearn.feature_extraction.stop_words import ENGLISH_STOP_WORDS"
   ]
  },
  {
   "cell_type": "markdown",
   "metadata": {},
   "source": [
    "We retroactively add stop words here, as before.  General stopwords are used as well as a maximum limit on how often a word can appear to limit our search to words less common to all comments on both sides.  A TF-IDF vectorizer is used here This list was further updated for words that seemed to carry significant weight in distinguishing the two subreddits, but were not seen as relevant in heading towards the final application of this model.  The selected words seemed to have a large feature importance in predicting subreddits, but may obscure results in determining what is considered offensive as opposed to what is simply mentioned.  The setup is the same as before besides the additional stopwords."
   ]
  },
  {
   "cell_type": "code",
   "execution_count": 6,
   "metadata": {},
   "outputs": [],
   "source": [
    "stops = set(ENGLISH_STOP_WORDS)\n",
    "stops = stops.union({'chad','www', 'reddit', 'deleted', 'https', 'com', 'http', 'incel', 'azavii', 'incels', 'imgur', 'youtube', 'gt'})"
   ]
  },
  {
   "cell_type": "code",
   "execution_count": 7,
   "metadata": {},
   "outputs": [],
   "source": [
    "tf = TfidfVectorizer(\n",
    "    max_df=0.8, \n",
    "    min_df=20, \n",
    "    token_pattern='[a-zA-Z][a-zA-Z]+',\n",
    "    ngram_range=(1,2),\n",
    "    stop_words=stops\n",
    ")"
   ]
  },
  {
   "cell_type": "code",
   "execution_count": 8,
   "metadata": {},
   "outputs": [],
   "source": [
    "tifi = tf.fit_transform(all_coms)"
   ]
  },
  {
   "cell_type": "code",
   "execution_count": 9,
   "metadata": {},
   "outputs": [],
   "source": [
    "countdf = pd.DataFrame(tifi.todense(), columns = tf.get_feature_names())"
   ]
  },
  {
   "cell_type": "code",
   "execution_count": 10,
   "metadata": {},
   "outputs": [],
   "source": [
    "countdf['Article'] = 1\n",
    "countdf.loc[lengths[0]:, 'Article'] = 0"
   ]
  },
  {
   "cell_type": "code",
   "execution_count": 11,
   "metadata": {},
   "outputs": [],
   "source": [
    "from sklearn.model_selection import train_test_split\n",
    "import numpy as np"
   ]
  },
  {
   "cell_type": "code",
   "execution_count": 12,
   "metadata": {},
   "outputs": [],
   "source": [
    "xtrain, xtest, ytrain, ytest = train_test_split(countdf.iloc[:,:-1], countdf.iloc[:,-1])"
   ]
  },
  {
   "cell_type": "markdown",
   "metadata": {},
   "source": [
    "Single value decomposition is preemptively used here in examining context, going beyond a pure bag-of-words approach.  The implications of using this topic space in a general manner is discussed in the conclusion of the notebook."
   ]
  },
  {
   "cell_type": "code",
   "execution_count": 13,
   "metadata": {},
   "outputs": [],
   "source": [
    "from sklearn.decomposition import TruncatedSVD"
   ]
  },
  {
   "cell_type": "code",
   "execution_count": 14,
   "metadata": {},
   "outputs": [],
   "source": [
    "svd = TruncatedSVD(n_components=100)\n",
    "xtrain = svd.fit_transform(xtrain)\n",
    "xtest = svd.transform(xtest)"
   ]
  },
  {
   "cell_type": "markdown",
   "metadata": {
    "focus": false,
    "id": "04563b69-f7b6-466f-9d65-fc62c9ddee6a"
   },
   "source": [
    "## Implementing Random Forest Classifier"
   ]
  },
  {
   "cell_type": "markdown",
   "metadata": {},
   "source": [
    "We now implement a random forest model to classify the subreddits.  Initially, we call a grid search to search several parameters for us.  We note that increasing the number of estimators would only increase our score, so we do not search too deeply in this parameter."
   ]
  },
  {
   "cell_type": "code",
   "execution_count": 15,
   "metadata": {},
   "outputs": [],
   "source": [
    "from sklearn.ensemble import RandomForestClassifier\n",
    "from sklearn.model_selection import GridSearchCV\n",
    "from sklearn.feature_extraction.stop_words import ENGLISH_STOP_WORDS\n",
    "import matplotlib.pyplot as plt\n",
    "import numpy as np"
   ]
  },
  {
   "cell_type": "code",
   "execution_count": 16,
   "metadata": {},
   "outputs": [
    {
     "data": {
      "text/plain": [
       "0.6761904761904762"
      ]
     },
     "execution_count": 16,
     "metadata": {},
     "output_type": "execute_result"
    }
   ],
   "source": [
    "rf = RandomForestClassifier()\n",
    "rfp = {'max_features':[1,3,5,10], 'n_estimators':[30],'max_depth':[1,2,3,5,10,20], 'min_samples_leaf':[1,10,5,20], 'min_samples_split':[20,4,10,15]}\n",
    "rfgrid = GridSearchCV(rf, rfp)\n",
    "rfgrid.fit(xtrain, ytrain)\n",
    "rfgrid.score(xtest, ytest)"
   ]
  },
  {
   "cell_type": "code",
   "execution_count": 17,
   "metadata": {},
   "outputs": [
    {
     "data": {
      "text/plain": [
       "{'max_depth': 20,\n",
       " 'max_features': 10,\n",
       " 'min_samples_leaf': 20,\n",
       " 'min_samples_split': 4,\n",
       " 'n_estimators': 30}"
      ]
     },
     "execution_count": 17,
     "metadata": {},
     "output_type": "execute_result"
    }
   ],
   "source": [
    "rfgrid.best_params_"
   ]
  },
  {
   "cell_type": "markdown",
   "metadata": {},
   "source": [
    "We quickly examine a few results from the cross validation.  A deeper exploration is provided later; looking at model score as a function of some parameter is not efficient in grid search; we could have just as easily expanded about the best parameters to observe behavior (which is what we end up doing, in fact), rather than going through every single combination."
   ]
  },
  {
   "cell_type": "code",
   "execution_count": 19,
   "metadata": {},
   "outputs": [],
   "source": [
    "from functools import reduce\n",
    "\n",
    "def plot_score_dependence(grid, parameter):\n",
    "    other_params = {param:val for param, val in grid.best_params_.items() if param != parameter}\n",
    "    points = [(row[0][parameter], row[1]) for row in grid.grid_scores_\n",
    "              if reduce((lambda x,y: x and y), [row[0][param] == other_params[param] for param in other_params])\n",
    "             ]\n",
    "    x = [row[0] for row in points]\n",
    "    y = [row[1] for row in points]\n",
    "    plt.scatter(x, y)\n",
    "    plt.title(f'Accuracy vs {parameter}')\n",
    "    plt.xlabel(parameter)\n",
    "    plt.ylabel('Accuracy')"
   ]
  },
  {
   "cell_type": "code",
   "execution_count": 20,
   "metadata": {},
   "outputs": [
    {
     "name": "stderr",
     "output_type": "stream",
     "text": [
      "/anaconda3/lib/python3.6/site-packages/sklearn/model_selection/_search.py:761: DeprecationWarning: The grid_scores_ attribute was deprecated in version 0.18 in favor of the more elaborate cv_results_ attribute. The grid_scores_ attribute will not be available from 0.20\n",
      "  DeprecationWarning)\n"
     ]
    },
    {
     "data": {
      "image/png": "[encoded data removed]",
      "text/plain": [
       "<Figure size 432x288 with 1 Axes>"
      ]
     },
     "metadata": {},
     "output_type": "display_data"
    }
   ],
   "source": [
    "plot_score_dependence(rfgrid, 'max_depth')"
   ]
  },
  {
   "cell_type": "code",
   "execution_count": 21,
   "metadata": {},
   "outputs": [
    {
     "name": "stderr",
     "output_type": "stream",
     "text": [
      "/anaconda3/lib/python3.6/site-packages/sklearn/model_selection/_search.py:761: DeprecationWarning: The grid_scores_ attribute was deprecated in version 0.18 in favor of the more elaborate cv_results_ attribute. The grid_scores_ attribute will not be available from 0.20\n",
      "  DeprecationWarning)\n"
     ]
    },
    {
     "data": {
      "image/png": "[encoded data removed]",
      "text/plain": [
       "<Figure size 432x288 with 1 Axes>"
      ]
     },
     "metadata": {},
     "output_type": "display_data"
    }
   ],
   "source": [
    "plot_score_dependence(rfgrid, 'max_features')"
   ]
  },
  {
   "cell_type": "markdown",
   "metadata": {},
   "source": [
    "We now search closer to the best parameters with some manual guessing.  It seems increasing the amount of features seen at each decision may increase accuracy still, but the order of increase for all parameters explored does not seem to be by much.  From the set of best parameters found, the results of minimum samples to consider a split and to be a leaf are found intuitively inconsistent above and likely due to variance: if it did consider a split with only 4 points of data at a node, it could not possibly produce a leaf.  We manually tune for some of these parameters here."
   ]
  },
  {
   "cell_type": "code",
   "execution_count": 43,
   "metadata": {},
   "outputs": [],
   "source": [
    "rf = RandomForestClassifier(max_features=1, n_estimators = 30, max_depth=4, min_samples_leaf=1, min_samples_split=2)"
   ]
  },
  {
   "cell_type": "code",
   "execution_count": 44,
   "metadata": {},
   "outputs": [
    {
     "data": {
      "text/plain": [
       "(0.650652557319224, 0.6211640211640211)"
      ]
     },
     "execution_count": 44,
     "metadata": {},
     "output_type": "execute_result"
    }
   ],
   "source": [
    "rf.fit(xtrain, ytrain)\n",
    "rf.score(xtrain, ytrain), rf.score(xtest, ytest)"
   ]
  },
  {
   "cell_type": "markdown",
   "metadata": {},
   "source": [
    "We further explore performance along one hyperparameter below, starting with a tree's max_depth.  Here, max_features is set to 1, though we would expect higher performance if we set it higher.  We see that beyond a max_depth of 20, the gains are increasingly modest.  The behavior of the training score is concerning, however; it would be wise to stop increasing max depth arbitrarily."
   ]
  },
  {
   "cell_type": "code",
   "execution_count": 54,
   "metadata": {},
   "outputs": [],
   "source": [
    "depths = [1, 5, 10, 20, 30, 50, 100, 150]\n",
    "scores_test = []\n",
    "scores_train = []\n",
    "for depth in depths:\n",
    "    rf2 = RandomForestClassifier(max_features=5,n_estimators = 30, max_depth=depth, min_samples_leaf=1, min_samples_split=2)\n",
    "    rf2.fit(xtrain, ytrain)\n",
    "    scores_test.append(rf2.score(xtest, ytest))\n",
    "    scores_train.append(rf2.score(xtrain, ytrain))"
   ]
  },
  {
   "cell_type": "code",
   "execution_count": 55,
   "metadata": {},
   "outputs": [
    {
     "data": {
      "image/png": "[encoded data removed]",
      "text/plain": [
       "<Figure size 432x288 with 1 Axes>"
      ]
     },
     "metadata": {},
     "output_type": "display_data"
    }
   ],
   "source": [
    "plt.figure()\n",
    "plt.scatter(depths, scores_test, label='test')\n",
    "plt.scatter(depths, scores_train, label='train')\n",
    "plt.xlabel('Max Depth')\n",
    "plt.ylabel('Test Accuracy')\n",
    "plt.legend()\n",
    "plt.title('Random Forest Modelling Accuracy \\n(varying Max Depth)');"
   ]
  },
  {
   "cell_type": "markdown",
   "metadata": {},
   "source": [
    "It seems even with one feature viewed at a time, the max depth should not exceed 5.  Selecting a tree depth of 4, we consider the gains in increasing the number of estimators.  The return seems to level around 20 estimators.  While the training data always scores more than the testing data by a few percentage points in accuracy, this difference does not seem to increase by much as the number of estimators increases."
   ]
  },
  {
   "cell_type": "code",
   "execution_count": 60,
   "metadata": {},
   "outputs": [],
   "source": [
    "estimators = [1, 3, 5, 10, 20, 30, 40, 50, 100]\n",
    "scores_test = []\n",
    "scores_train = []\n",
    "for n in estimators:\n",
    "    rf2 = RandomForestClassifier(max_features=1,n_estimators = n, max_depth=4, min_samples_leaf=1, min_samples_split=2)\n",
    "    rf2.fit(xtrain, ytrain)\n",
    "    scores_test.append(rf2.score(xtest, ytest))\n",
    "    scores_train.append(rf2.score(xtrain, ytrain))"
   ]
  },
  {
   "cell_type": "code",
   "execution_count": 62,
   "metadata": {},
   "outputs": [
    {
     "data": {
      "image/png": "[encoded data removed]",
      "text/plain": [
       "<Figure size 432x288 with 1 Axes>"
      ]
     },
     "metadata": {},
     "output_type": "display_data"
    }
   ],
   "source": [
    "plt.figure()\n",
    "plt.scatter(estimators, scores_test, label='test')\n",
    "plt.scatter(estimators, scores_train, label='train')\n",
    "plt.xlabel('Max Estimators')\n",
    "plt.ylabel('Test Accuracy')\n",
    "plt.legend()\n",
    "plt.title('Random Forest Modelling Accuracy \\n(varying # Estimators)');"
   ]
  },
  {
   "cell_type": "markdown",
   "metadata": {},
   "source": [
    "## Analyzing Feature Importances"
   ]
  },
  {
   "cell_type": "markdown",
   "metadata": {},
   "source": [
    "No single feature stands out as explaining a larger amount the forest's decisions.  We list the top five vectors ranked by feature importance below.  While there are a few that still list incels specific jargon, others in this list are more general.  We might have some hope that our model will be able to generalize toxic behavior outside of this topic."
   ]
  },
  {
   "cell_type": "code",
   "execution_count": 63,
   "metadata": {},
   "outputs": [],
   "source": [
    "names = []\n",
    "for i in range(len(svd.components_)):\n",
    "    a = list(zip(svd.components_[i], tf.get_feature_names()))\n",
    "    a.sort(reverse=True)\n",
    "    names.append((rf.feature_importances_[i], i, a[:7]))"
   ]
  },
  {
   "cell_type": "code",
   "execution_count": 64,
   "metadata": {},
   "outputs": [],
   "source": [
    "names.sort(reverse=True)"
   ]
  },
  {
   "cell_type": "code",
   "execution_count": 65,
   "metadata": {},
   "outputs": [
    {
     "data": {
      "text/plain": [
       "[(0.0546603439570255,\n",
       "  1,\n",
       "  [(0.957120705643408, 'fuck'),\n",
       "   (0.15851279234387824, 'lol'),\n",
       "   (0.0634351875061699, 'im'),\n",
       "   (0.05342665834949385, 'shit'),\n",
       "   (0.044968039436193034, 'fucking'),\n",
       "   (0.04314700533778434, 'cope'),\n",
       "   (0.0316871675744721, 'cuck')]),\n",
       " (0.03930137642898656,\n",
       "  8,\n",
       "  [(0.6052448450352497, 'people'),\n",
       "   (0.08615688911613133, 'think'),\n",
       "   (0.07394548650759505, 'youre'),\n",
       "   (0.06207694741190467, 'way'),\n",
       "   (0.059516127744018245, 'make'),\n",
       "   (0.059321525397606024, 'thats'),\n",
       "   (0.05421507746095642, 'ugly')]),\n",
       " (0.033651968583351025,\n",
       "  0,\n",
       "  [(0.30713548815633945, 'just'),\n",
       "   (0.29351707985847136, 'like'),\n",
       "   (0.2518358353419466, 'dont'),\n",
       "   (0.2512337925430378, 'im'),\n",
       "   (0.23850894611070722, 'people'),\n",
       "   (0.14555130797474078, 'think'),\n",
       "   (0.14337188439458307, 'women')]),\n",
       " (0.03172864718241373,\n",
       "  67,\n",
       "  [(0.42035872774064775, 'said'),\n",
       "   (0.3747908464534757, 'live'),\n",
       "   (0.2392463760619274, 'wrong'),\n",
       "   (0.17539658906465933, 'probably'),\n",
       "   (0.150811194902756, 'need'),\n",
       "   (0.13072334801265514, 'make'),\n",
       "   (0.12809041723182904, 'hate')]),\n",
       " (0.028795377057823965,\n",
       "  3,\n",
       "  [(0.6784125071016195, 'im'),\n",
       "   (0.32454675381081144, 'lol'),\n",
       "   (0.05590360258619435, 'dont'),\n",
       "   (0.05097753552927409, 'just'),\n",
       "   (0.049394337931346045, 'sure'),\n",
       "   (0.045291388176710856, 'im just'),\n",
       "   (0.040191698376059085, 'sorry')])]"
      ]
     },
     "execution_count": 65,
     "metadata": {},
     "output_type": "execute_result"
    }
   ],
   "source": [
    "names[:5]"
   ]
  },
  {
   "cell_type": "code",
   "execution_count": 66,
   "metadata": {},
   "outputs": [],
   "source": [
    "plotme = pd.concat([pd.DataFrame(xtest), ytest.reset_index()], axis=1)"
   ]
  },
  {
   "cell_type": "code",
   "execution_count": 67,
   "metadata": {},
   "outputs": [],
   "source": [
    "import seaborn as sns"
   ]
  },
  {
   "cell_type": "code",
   "execution_count": 69,
   "metadata": {},
   "outputs": [
    {
     "data": {
      "image/png": "[encoded data removed]",
      "text/plain": [
       "<Figure size 1440x720 with 1 Axes>"
      ]
     },
     "metadata": {},
     "output_type": "display_data"
    }
   ],
   "source": [
    "plt.figure(figsize=(20,10))\n",
    "sns.scatterplot(plotme.columns[2], plotme.columns[3], data=plotme, hue='Article', alpha=0.5)\n",
    "plt.xlabel(', '.join([element[1] for element in names[0][2]]))\n",
    "plt.ylabel(', '.join([element[1] for element in names[1][2]]));"
   ]
  },
  {
   "cell_type": "markdown",
   "metadata": {},
   "source": [
    "It should be reminded that article 1 is from r/incels, 0 from r/foreveralone.  Even in the dimensions that explain the most for single topics, there is very little separation.  There seems to be some in the negative directions for r/incels, which is surprising given the top 5 positive loadings for these topics.  The negative weights for these were not examined, though."
   ]
  },
  {
   "cell_type": "markdown",
   "metadata": {},
   "source": [
    "# Conclusions\n",
    "\n",
    "## Towards a More General Deployment\n",
    "\n",
    "With an accuracy a little over 60%, we should be hesitant about deploying this as a filter for general use.  In considering whether the results of this filter could possibly be useful, we examine a result which may mislead us to further look down this avenue in developing a general purpose filter, citing the model's predictions on r/changemyview, a more regulated forum that promotes civil discourse. "
   ]
  },
  {
   "cell_type": "code",
   "execution_count": 70,
   "metadata": {},
   "outputs": [
    {
     "data": {
      "text/plain": [
       "0.30057165780764217"
      ]
     },
     "execution_count": 70,
     "metadata": {},
     "output_type": "execute_result"
    }
   ],
   "source": [
    "files = [f'./jsons/changemyview_comment_{i}.json' for i in range(1)]\n",
    "pred_coms, lengths = concatCorp(files)\n",
    "xfinaltest = tf.transform(pred_coms)\n",
    "testdf = pd.DataFrame(xfinaltest.todense(), columns = tf.get_feature_names())\n",
    "transformedx = svd.transform(testdf)\n",
    "np.mean(rf.predict(transformedx))"
   ]
  },
  {
   "cell_type": "markdown",
   "metadata": {},
   "source": [
    "Using the incels thread as our label of toxic behavior, we see that we are around 70% accurate in avoiding false positives with only the data we have so far.  This is assuming none of the comments from r/changemymind should be at all associated with those in r/incels.  While we would still have a ways to go considering the volume of comments posted on reddit daily, we should remind ourselves the mechanisms used to determine this classification.  First, let us examine a post predicted as not toxic.  We find the third post in our collection to be one of these:"
   ]
  },
  {
   "cell_type": "code",
   "execution_count": 71,
   "metadata": {},
   "outputs": [
    {
     "data": {
      "text/plain": [
       "array([0])"
      ]
     },
     "execution_count": 71,
     "metadata": {},
     "output_type": "execute_result"
    }
   ],
   "source": [
    "rf.predict([transformedx[2]])"
   ]
  },
  {
   "cell_type": "code",
   "execution_count": 72,
   "metadata": {},
   "outputs": [
    {
     "data": {
      "text/plain": [
       "'&gt;If I deliberately say \"dont hang out with this person if you want me around.\" there is no difference. \\n\\nOf course there is.  If you cant see the difference, I cant really help you.'"
      ]
     },
     "execution_count": 72,
     "metadata": {},
     "output_type": "execute_result"
    }
   ],
   "source": [
    "pred_coms[2]"
   ]
  },
  {
   "cell_type": "code",
   "execution_count": 73,
   "metadata": {},
   "outputs": [],
   "source": [
    "names = []\n",
    "for i in range(len(svd.components_)):\n",
    "    a = list(zip(svd.components_[i], tf.get_feature_names()))\n",
    "    a.sort(reverse=True)\n",
    "    names.append((transformedx[2][i], i, a[:7]))"
   ]
  },
  {
   "cell_type": "markdown",
   "metadata": {},
   "source": [
    "Let us examine the top five projections of this sentence in our topic space produced from fitting to our earlier threads."
   ]
  },
  {
   "cell_type": "code",
   "execution_count": 74,
   "metadata": {},
   "outputs": [
    {
     "data": {
      "text/plain": [
       "[(0.15244491226487922,\n",
       "  0,\n",
       "  [(0.30713548815633945, 'just'),\n",
       "   (0.29351707985847136, 'like'),\n",
       "   (0.2518358353419466, 'dont'),\n",
       "   (0.2512337925430378, 'im'),\n",
       "   (0.23850894611070722, 'people'),\n",
       "   (0.14555130797474078, 'think'),\n",
       "   (0.14337188439458307, 'women')]),\n",
       " (0.15238632403903077,\n",
       "  35,\n",
       "  [(0.5548602398142394, 'say'),\n",
       "   (0.17996944456168412, 'friends'),\n",
       "   (0.16957876366481314, 'shit'),\n",
       "   (0.1612533392402721, 'hes'),\n",
       "   (0.13778804731512148, 'id'),\n",
       "   (0.1334237558574386, 'need'),\n",
       "   (0.12559138691548774, 'didnt')]),\n",
       " (0.12067874613442414,\n",
       "  6,\n",
       "  [(0.6542139406365304, 'dont'),\n",
       "   (0.16786879654530437, 'lol'),\n",
       "   (0.1639513663512268, 'know'),\n",
       "   (0.13700281498179973, 'want'),\n",
       "   (0.11838480553098968, 'dont know'),\n",
       "   (0.11277852580360997, 'people'),\n",
       "   (0.10109824466770227, 'dont want')]),\n",
       " (0.11902503747557593,\n",
       "  31,\n",
       "  [(0.4907365863449868, 'really'),\n",
       "   (0.23473013565676787, 'fucking'),\n",
       "   (0.22656993674255832, 'time'),\n",
       "   (0.18542577738989874, 'say'),\n",
       "   (0.13500754929723077, 'looks'),\n",
       "   (0.0818297586640054, 'ugly'),\n",
       "   (0.07653607991807966, 'look')]),\n",
       " (0.08997888078652315,\n",
       "  15,\n",
       "  [(0.47467616696899334, 'want'),\n",
       "   (0.4421801511621094, 'yes'),\n",
       "   (0.173649123418026, 'people'),\n",
       "   (0.15838226057073973, 'youre'),\n",
       "   (0.10850323543159258, 'dont want'),\n",
       "   (0.08779484886100371, 'sex'),\n",
       "   (0.08388892560853208, 'life')])]"
      ]
     },
     "execution_count": 74,
     "metadata": {},
     "output_type": "execute_result"
    }
   ],
   "source": [
    "names.sort(reverse=True)\n",
    "names[:5]"
   ]
  },
  {
   "cell_type": "markdown",
   "metadata": {},
   "source": [
    "The third item in each tuple are the weights of each word in the topic.  We should note that though the code was lifted from the earlier example examining feature importance, the first item in each tuple is just a projection - it should not immediately be interpreted as something like an importance in decision making.  Still, the point of this display is that the entirety of this sentence projected into our SVD space is simply a single word which drags an entire set of words mostly unrelated to the r/changemyview forum along with it.  This is clear in the second and third items of the list, where \"say\" potentially drags with it an entire sentiment for the second, and \"don't\" and \"want\" drag with it the third.\n",
    "\n",
    "On a final note, we observe that we have not looked at the corresponding negative terms for each topic.  These would diminish the presence of a topic if the words are found.  We inspect a few of the terms with negative projections just to show the same pattern of detecing one important word."
   ]
  },
  {
   "cell_type": "code",
   "execution_count": 75,
   "metadata": {},
   "outputs": [],
   "source": [
    "names = []\n",
    "for i in range(len(svd.components_)):\n",
    "    a = list(zip(svd.components_[i], tf.get_feature_names()))\n",
    "    a.sort()\n",
    "    names.append((transformedx[2][i], i, a[:7]))"
   ]
  },
  {
   "cell_type": "code",
   "execution_count": 76,
   "metadata": {},
   "outputs": [
    {
     "data": {
      "text/plain": [
       "[(-0.07267257788974207,\n",
       "  19,\n",
       "  [(-0.29689852371201403, 'fucking'),\n",
       "   (-0.21593209765326823, 'want'),\n",
       "   (-0.1723193599641109, 'sex'),\n",
       "   (-0.16418087497210607, 'post'),\n",
       "   (-0.13500751370215625, 'say'),\n",
       "   (-0.12832196787421193, 'know'),\n",
       "   (-0.12510088104780187, 'right')]),\n",
       " (-0.07101942670673628,\n",
       "  4,\n",
       "  [(-0.26119645172329153, 'just'),\n",
       "   (-0.18669698076944238, 'dont'),\n",
       "   (-0.15148873963284343, 'women'),\n",
       "   (-0.1274795807067972, 'want'),\n",
       "   (-0.12717075673506056, 'people'),\n",
       "   (-0.11633146406533283, 'good'),\n",
       "   (-0.1152293998410043, 'youre')]),\n",
       " (-0.06505604503187933,\n",
       "  89,\n",
       "  [(-0.22120838666572273, 'guys'),\n",
       "   (-0.21755118019175704, 'help'),\n",
       "   (-0.17072843730727302, 'tbh'),\n",
       "   (-0.15094447469646266, 'bad'),\n",
       "   (-0.1449286851550619, 'doesnt'),\n",
       "   (-0.1362369585035464, 'actually'),\n",
       "   (-0.1238813755797177, 'tell')]),\n",
       " (-0.06338167431916221,\n",
       "  38,\n",
       "  [(-0.3597533655519616, 'bro'),\n",
       "   (-0.30746629429226624, 'got'),\n",
       "   (-0.2647555822871391, 'say'),\n",
       "   (-0.25178336212417357, 'hes'),\n",
       "   (-0.25096193497142283, 'way'),\n",
       "   (-0.1922857534779687, 'love'),\n",
       "   (-0.1757207102131531, 'dude')]),\n",
       " (-0.06016850232570467,\n",
       "  77,\n",
       "  [(-0.2673688678715698, 'sorry'),\n",
       "   (-0.18744297673692092, 'nice'),\n",
       "   (-0.17122372209462353, 'person'),\n",
       "   (-0.14009434564509674, 'school'),\n",
       "   (-0.1332984429353911, 'tinder'),\n",
       "   (-0.10497080940010972, 'stop'),\n",
       "   (-0.09863942391494425, 'high')])]"
      ]
     },
     "execution_count": 76,
     "metadata": {},
     "output_type": "execute_result"
    }
   ],
   "source": [
    "names.sort()\n",
    "names[:5]"
   ]
  },
  {
   "cell_type": "markdown",
   "metadata": {},
   "source": [
    "In the first item, the use of the word \"want\" drags with it a topic we would not identify in this comment."
   ]
  },
  {
   "cell_type": "markdown",
   "metadata": {},
   "source": [
    "## More Results From Other Subreddits\n",
    "\n",
    "Here, we inspect a few more posts that might be associated with r/incels.  Interpreting these results is even more ambiguous than previous, however; it is not necessarily the case that we should claim these are the same types of comments from r/incels.  However, r/truecels was claimed to have been branched from r/incels, and has been banned for this."
   ]
  },
  {
   "cell_type": "code",
   "execution_count": 77,
   "metadata": {},
   "outputs": [],
   "source": [
    "def predictIncels(name, n_files):\n",
    "    files = [f'./jsons/{name}_comment_{i}.json' for i in range(n_files)]\n",
    "    pred_coms, lengths = concatCorp(files)\n",
    "    xfinaltest = tf.transform(pred_coms)\n",
    "    testdf = pd.DataFrame(xfinaltest.todense(), columns = tf.get_feature_names())\n",
    "    transformedx = svd.transform(testdf)\n",
    "    return np.mean(rf.predict(transformedx))"
   ]
  },
  {
   "cell_type": "code",
   "execution_count": 78,
   "metadata": {},
   "outputs": [
    {
     "data": {
      "text/plain": [
       "0.32892690513219286"
      ]
     },
     "execution_count": 78,
     "metadata": {},
     "output_type": "execute_result"
    }
   ],
   "source": [
    "predictIncels('truecels', 1)"
   ]
  },
  {
   "cell_type": "code",
   "execution_count": 79,
   "metadata": {},
   "outputs": [
    {
     "data": {
      "text/plain": [
       "0.3901705115346038"
      ]
     },
     "execution_count": 79,
     "metadata": {},
     "output_type": "execute_result"
    }
   ],
   "source": [
    "predictIncels('mensrights', 1)"
   ]
  },
  {
   "cell_type": "markdown",
   "metadata": {},
   "source": [
    "Neither of these branches is especially close in content to r/incels.  As we have seen with r/changemymind, however, we should not be surprised.  The initial proposition that we might be able to train a model to find general bannable behavior seems to have been defeated.  Before completely dismissing the idea of building a convincing model that can help moderate forums, we might consider the following:"
   ]
  },
  {
   "cell_type": "markdown",
   "metadata": {},
   "source": [
    " - Comments were used to build the models here.  However, the actual submission titles and text might also be used to differentiate between communities, and we may see if these posts might also help in classifying comments.\n",
    " \n",
    " - It is expected that word2vec or doc2vec would do better in recognizing patterns beyond words that occur together (or at least advertised).  As for what we could do here in terms of vocabulary, we could also consider continuing to remove jargon and see if that might generalize to other forums.  This is manually labor intensive, though, and the accuracy obtained probably does not warrant this.\n",
    " \n",
    " - Examine other parent/banned child subreddit pairs.  While this pair was chosen for the assumption that their content was less tied to the times, we might consider the results we would obtain from altnewz and uncensorednews, which were also obtained.  At the very least, more data can be obtained to refine the model."
   ]
  },
  {
   "cell_type": "markdown",
   "metadata": {},
   "source": [
    "Ultimately, what constitutes a community toxic enough to warrant an entire subreddit be banned is subjective.  Even if constituents of a banned subreddit regroup in an attempt to establish a space similar to their previous one, it is not guaranteed our model could continue to detect what warrants a ban as communities evolve.  Still, it is comforting that we have found even some separation between two similar subreddits where one was banned."
   ]
  }
 ],
 "metadata": {
  "anaconda-cloud": {},
  "kernelspec": {
   "display_name": "Python 3",
   "language": "python",
   "name": "python3"
  },
  "language_info": {
   "codemirror_mode": {
    "name": "ipython",
    "version": 3
   },
   "file_extension": ".py",
   "mimetype": "text/x-python",
   "name": "python",
   "nbconvert_exporter": "python",
   "pygments_lexer": "ipython3",
   "version": "3.6.5"
  },
  "varInspector": {
   "cols": {
    "lenName": 16,
    "lenType": 16,
    "lenVar": 40
   },
   "kernels_config": {
    "python": {
     "delete_cmd_postfix": "",
     "delete_cmd_prefix": "del ",
     "library": "var_list.py",
     "varRefreshCmd": "print(var_dic_list())"
    },
    "r": {
     "delete_cmd_postfix": ") ",
     "delete_cmd_prefix": "rm(",
     "library": "var_list.r",
     "varRefreshCmd": "cat(var_dic_list()) "
    }
   },
   "types_to_exclude": [
    "module",
    "function",
    "builtin_function_or_method",
    "instance",
    "_Feature"
   ],
   "window_display": false
  }
 },
 "nbformat": 4,
 "nbformat_minor": 2
}
